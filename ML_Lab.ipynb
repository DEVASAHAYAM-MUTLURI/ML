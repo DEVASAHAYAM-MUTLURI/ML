{
  "nbformat": 4,
  "nbformat_minor": 0,
  "metadata": {
    "colab": {
      "provenance": []
    },
    "kernelspec": {
      "name": "python3",
      "display_name": "Python 3"
    },
    "language_info": {
      "name": "python"
    }
  },
  "cells": [
    {
      "cell_type": "markdown",
      "source": [
        "**1. Implement and demonstrate the FIND-S algorithm to finding the most specific hypothesis based on a given set of data samples. Read the training data from a .CSV file.**"
      ],
      "metadata": {
        "id": "jyItyxMSGVRJ"
      }
    },
    {
      "cell_type": "code",
      "source": [
        "import csv\n",
        "a = []\n",
        "with open('/content/ENJOYSPORT.csv', 'r') as csvfile:\n",
        "    next(csvfile)\n",
        "    for row in csv.reader(csvfile):\n",
        "        a.append(row)\n",
        "    print(a)\n",
        "    print(\"\\nThe total number of training instances are : \",len(a))\n",
        "\n",
        "num_attribute = len(a[0])-1\n",
        "\n",
        "print(\"\\nThe initial hypothesis is : \")\n",
        "hypothesis = ['0']*num_attribute\n",
        "print(hypothesis)\n",
        "for i in range(0, len(a)):\n",
        "    if a[i][num_attribute] == 'yes':\n",
        "        print (\"\\nInstance \", i+1, \"is\", a[i], \" and is Positive Instance\")\n",
        "        for j in range(0, num_attribute):\n",
        "            if hypothesis[j] == '0' or hypothesis[j] == a[i][j]:\n",
        "                hypothesis[j] = a[i][j]\n",
        "            else:\n",
        "                hypothesis[j] = '?'\n",
        "\n",
        "\n",
        "    if a[i][num_attribute] == 'no':\n",
        "        print (\"\\nInstance \", i+1, \"is\", a[i], \" and is Negative Instance Hence Ignored\")\n",
        "        print(\"The hypothesis for the training instance\", i+1, \" is: \" , hypothesis, \"\\n\")\n",
        "    print(hypothesis)\n",
        "\n",
        "print(\"\\nThe Maximally specific hypothesis for the training instance is \", hypothesis)\n"
      ],
      "metadata": {
        "colab": {
          "base_uri": "https://localhost:8080/"
        },
        "id": "ljIOnHvqGeeF",
        "outputId": "84f4cc1a-25dd-4410-a8a6-0c0d76ac7936"
      },
      "execution_count": 2,
      "outputs": [
        {
          "output_type": "stream",
          "name": "stdout",
          "text": [
            "[['Sunny', 'Warm', 'Normal', 'Strong', 'Warm', 'Same', 'yes'], ['Sunny', 'Warm', 'High', 'Strong', 'Warm', 'Same', 'yes'], ['Rainy', 'Cold', 'High', 'Strong', 'Warm', 'Change', 'no'], ['Sunny', 'Warm', 'High', 'Strong', 'Cool', 'Change', 'yes']]\n",
            "\n",
            "The total number of training instances are :  4\n",
            "\n",
            "The initial hypothesis is : \n",
            "['0', '0', '0', '0', '0', '0']\n",
            "\n",
            "Instance  1 is ['Sunny', 'Warm', 'Normal', 'Strong', 'Warm', 'Same', 'yes']  and is Positive Instance\n",
            "['Sunny', 'Warm', 'Normal', 'Strong', 'Warm', 'Same']\n",
            "\n",
            "Instance  2 is ['Sunny', 'Warm', 'High', 'Strong', 'Warm', 'Same', 'yes']  and is Positive Instance\n",
            "['Sunny', 'Warm', '?', 'Strong', 'Warm', 'Same']\n",
            "\n",
            "Instance  3 is ['Rainy', 'Cold', 'High', 'Strong', 'Warm', 'Change', 'no']  and is Negative Instance Hence Ignored\n",
            "The hypothesis for the training instance 3  is:  ['Sunny', 'Warm', '?', 'Strong', 'Warm', 'Same'] \n",
            "\n",
            "['Sunny', 'Warm', '?', 'Strong', 'Warm', 'Same']\n",
            "\n",
            "Instance  4 is ['Sunny', 'Warm', 'High', 'Strong', 'Cool', 'Change', 'yes']  and is Positive Instance\n",
            "['Sunny', 'Warm', '?', 'Strong', '?', '?']\n",
            "\n",
            "The Maximally specific hypothesis for the training instance is  ['Sunny', 'Warm', '?', 'Strong', '?', '?']\n"
          ]
        }
      ]
    },
    {
      "cell_type": "markdown",
      "source": [
        "**2. For a given set of training data examples stored in a .CSV file, implement and demonstrate the Candidate-Elimination algorithm to output a description of the set of all hypotheses consistent with the training examples.**"
      ],
      "metadata": {
        "id": "D25JcNY-G1_P"
      }
    },
    {
      "cell_type": "code",
      "source": [
        "import numpy as np\n",
        "import pandas as pd\n",
        "data=pd.read_csv(\"/content/ENJOYSPORT.csv\")\n",
        "print(data)\n",
        "d=np.array(data)[:,:-1]\n",
        "print(\"The attributes are \\n\",d)\n",
        "target=np.array(data)[:,-1]\n",
        "print(\"The target values are\",target)\n",
        "def candidate(c,t):\n",
        "  print(\"Initialization of specific and general hypothesis\")\n",
        "  sh=c[0].copy()\n",
        "  gh=[[\"?\" for i in range(len(sh)) ] for i in range(len(sh))]\n",
        "  print(\"Specific hypothesis \\n\",sh)\n",
        "  print(\"General hypothesis \\n\",gh)\n",
        "  for i,val in enumerate(c):\n",
        "    if(t[i]==\"yes\"):\n",
        "      for x in range(len(sh)):\n",
        "       if(val[x]!=sh[x]):\n",
        "          sh[x]='?'\n",
        "          gh[x][x]='?'\n",
        "    if(t[i]==\"no\"):\n",
        "      for x in range(len(sh)):\n",
        "        if(val[x]!=sh[x]):\n",
        "          gh[x][x]=sh[x]\n",
        "        else:\n",
        "          gh[x][x]='?'\n",
        "  indices=[i for i,val in enumerate(gh)\n",
        "  if val==['?','?','?','?','?','?',]]\n",
        "  for i in indices:\n",
        "    gh.remove(['?','?','?','?','?','?',])\n",
        "  return sh,gh\n",
        "s_final,g_final=candidate(d,target)\n",
        "print(\"Specific hypothesis \\n \", s_final)\n",
        "print(\"General hypothesis \\n\",g_final)\n"
      ],
      "metadata": {
        "colab": {
          "base_uri": "https://localhost:8080/"
        },
        "id": "Aeh4HXDhHElh",
        "outputId": "c4cd1dfa-34be-4a09-fac3-7505ee17280d"
      },
      "execution_count": null,
      "outputs": [
        {
          "output_type": "stream",
          "name": "stdout",
          "text": [
            "     Sky AirTemp Humidity    Wind Water Forecast EnjoySport\n",
            "0  Sunny    Warm   Normal  Strong  Warm     Same        yes\n",
            "1  Sunny    Warm     High  Strong  Warm     Same        yes\n",
            "2  Rainy    Cold     High  Strong  Warm   Change         no\n",
            "3  Sunny    Warm     High  Strong  Cool   Change        yes\n",
            "The attributes are \n",
            " [['Sunny' 'Warm' 'Normal' 'Strong' 'Warm' 'Same']\n",
            " ['Sunny' 'Warm' 'High' 'Strong' 'Warm' 'Same']\n",
            " ['Rainy' 'Cold' 'High' 'Strong' 'Warm' 'Change']\n",
            " ['Sunny' 'Warm' 'High' 'Strong' 'Cool' 'Change']]\n",
            "The target values are ['yes' 'yes' 'no' 'yes']\n",
            "Initialization of specific and general hypothesis\n",
            "Specific hypothesis \n",
            " ['Sunny' 'Warm' 'Normal' 'Strong' 'Warm' 'Same']\n",
            "General hypothesis \n",
            " [['?', '?', '?', '?', '?', '?'], ['?', '?', '?', '?', '?', '?'], ['?', '?', '?', '?', '?', '?'], ['?', '?', '?', '?', '?', '?'], ['?', '?', '?', '?', '?', '?'], ['?', '?', '?', '?', '?', '?']]\n",
            "Specific hypothesis \n",
            "  ['Sunny' 'Warm' '?' 'Strong' '?' '?']\n",
            "General hypothesis \n",
            " [['Sunny', '?', '?', '?', '?', '?'], ['?', 'Warm', '?', '?', '?', '?']]\n"
          ]
        }
      ]
    },
    {
      "cell_type": "markdown",
      "source": [
        "**3. Write a program to implement the naïve Bayesian classifier for a sample training data set stored as a .CSV file. Compute the accuracy of the classifier, considering few test datasets.**"
      ],
      "metadata": {
        "id": "bmKTmS_IJt9T"
      }
    },
    {
      "cell_type": "code",
      "source": [
        "import pandas as pd\n",
        "from sklearn import tree\n",
        "from sklearn.preprocessing import LabelEncoder\n",
        "from sklearn.naive_bayes import GaussianNB\n",
        "\n",
        "data = pd.read_csv('tennisdata.csv')\n",
        "print(\"The first 5 values of data is :\\n\",data.head())\n",
        "\n",
        "X = data.iloc[:,:-1]\n",
        "print(\"\\nThe First 5 values of train data is\\n\",X.head())\n",
        "y = data.iloc[:,-1]\n",
        "print(\"\\nThe first 5 values of Train output is\\n\",y.head())\n",
        "\n",
        "le_outlook = LabelEncoder()\n",
        "X.Outlook = le_outlook.fit_transform(X.Outlook)\n",
        "le_Temperature = LabelEncoder()\n",
        "X.Temperature = le_Temperature.fit_transform(X.Temperature)\n",
        "le_Humidity = LabelEncoder()\n",
        "X.Humidity = le_Humidity.fit_transform(X.Humidity)\n",
        "le_Windy = LabelEncoder()\n",
        "X.Windy = le_Windy.fit_transform(X.Windy)\n",
        "\n",
        "print(\"\\nNow the Train data is :\\n\",X.head())\n",
        "le_PlayTennis = LabelEncoder()\n",
        "y = le_PlayTennis.fit_transform(y)\n",
        "print(\"\\nNow the Train output is\\n\",y)\n",
        "\n",
        "from sklearn.model_selection import train_test_split\n",
        "X_train, X_test, y_train, y_test = train_test_split(X,y, test_size=0.20)\n",
        "classifier = GaussianNB()\n",
        "classifier.fit(X_train,y_train)\n",
        "\n",
        "from sklearn.metrics import accuracy_score\n",
        "print(\"Accuracy is:\",accuracy_score(classifier.predict(X_test),y_test))"
      ],
      "metadata": {
        "colab": {
          "base_uri": "https://localhost:8080/"
        },
        "id": "tyw49uVPJxgT",
        "outputId": "f350c8bd-8eff-468a-c955-cedbac4e729e"
      },
      "execution_count": null,
      "outputs": [
        {
          "output_type": "stream",
          "name": "stdout",
          "text": [
            "The first 5 values of data is :\n",
            "     Outlook Temperature Humidity  Windy PlayTennis\n",
            "0     Sunny         Hot     High  False         No\n",
            "1     Sunny         Hot     High   True         No\n",
            "2  Overcast         Hot     High  False        Yes\n",
            "3     Rainy        Mild     High  False        Yes\n",
            "4     Rainy        Cool   Normal  False        Yes\n",
            "\n",
            "The First 5 values of train data is\n",
            "     Outlook Temperature Humidity  Windy\n",
            "0     Sunny         Hot     High  False\n",
            "1     Sunny         Hot     High   True\n",
            "2  Overcast         Hot     High  False\n",
            "3     Rainy        Mild     High  False\n",
            "4     Rainy        Cool   Normal  False\n",
            "\n",
            "The first 5 values of Train output is\n",
            " 0     No\n",
            "1     No\n",
            "2    Yes\n",
            "3    Yes\n",
            "4    Yes\n",
            "Name: PlayTennis, dtype: object\n",
            "\n",
            "Now the Train data is :\n",
            "    Outlook  Temperature  Humidity  Windy\n",
            "0        2            1         0      0\n",
            "1        2            1         0      1\n",
            "2        0            1         0      0\n",
            "3        1            2         0      0\n",
            "4        1            0         1      0\n",
            "\n",
            "Now the Train output is\n",
            " [0 0 1 1 1 0 1 0 1 1 1 1 1 0]\n",
            "Accuracy is: 1.0\n"
          ]
        }
      ]
    },
    {
      "cell_type": "markdown",
      "source": [
        "**4. Assuming a set of documents that need to be classified, use the naïve Bayesian classifier model to perform this task. Built-in Java classes /API can be used to write the program. Calculate the accuracy precision and recall for your data set.**"
      ],
      "metadata": {
        "id": "kLKGqhLxKdLC"
      }
    },
    {
      "cell_type": "code",
      "source": [
        "import pandas as pd\n",
        "from sklearn import metrics\n",
        "from sklearn.naive_bayes import MultinomialNB\n",
        "from sklearn.feature_extraction.text import CountVectorizer\n",
        "from sklearn.model_selection import train_test_split\n",
        "df=pd.read_csv(\"text_classification_4.csv\",names=[\"message\",\"label\"])\n",
        "df\n",
        "df[\"label_num\"]=df.label.map({\"pos\":1,\"neg\":0})\n",
        "df\n",
        "x=df.message\n",
        "y=df.label_num\n",
        "x_train,x_test,y_train,y_test=train_test_split(x,y,test_size=0.4)\n",
        "\n",
        "cv=CountVectorizer()\n",
        "xtrain=cv.fit_transform(x_train)\n",
        "xtest=cv.transform(x_test)\n",
        "mnb=MultinomialNB()\n",
        "mnb.fit(xtrain,y_train)\n",
        "y_pred=mnb.predict(xtest)\n",
        "print(\"Accuracy : \",metrics.accuracy_score(y_pred,y_test))\n",
        "print(\"Precision : \",metrics.precision_score(y_pred,y_test))\n",
        "print(\"Recall : \",metrics.recall_score(y_pred,y_test))"
      ],
      "metadata": {
        "colab": {
          "base_uri": "https://localhost:8080/"
        },
        "id": "Gc_pFRR5Kj63",
        "outputId": "7b29fd61-1334-42ce-f7af-d9e89fbbfac3"
      },
      "execution_count": null,
      "outputs": [
        {
          "output_type": "stream",
          "name": "stdout",
          "text": [
            "Accuracy :  0.5\n",
            "Precision :  0.25\n",
            "Recall :  0.5\n"
          ]
        }
      ]
    },
    {
      "cell_type": "markdown",
      "source": [
        "**5. Write a program to construct a Bayesian network considering medical data. Use this model to demonstrate the diagnosis the of heart patients using standard heart disease data set. You can use Java or Python ML Library classes /API.**"
      ],
      "metadata": {
        "id": "Fot87X6sK9nr"
      }
    },
    {
      "cell_type": "code",
      "source": [
        "!pip install pgmpy\n",
        "\n",
        "import pandas as pd\n",
        "import numpy as np\n",
        "import csv\n",
        "from pgmpy.estimators import MaximumLikelihoodEstimator\n",
        "from pgmpy.models import BayesianNetwork\n",
        "from pgmpy.inference import VariableElimination\n",
        "df=pd.read_csv(\"heart.csv\")\n",
        "df=df.replace('?',np.nan)\n",
        "model=BayesianNetwork([('age','target'),('sex','target'),('cp','target'),('fbs','target'),('exang','target'),('target','restecg'),('target','chol')])\n",
        "model.fit(df,estimator=MaximumLikelihoodEstimator)\n",
        "inference=VariableElimination(model)\n",
        "q1=inference.query(variables=['target'],evidence={'restecg':1})\n",
        "print(q1)\n",
        "q2=inference.query(variables=['target'],evidence={'cp':2})\n",
        "print(q2)\n"
      ],
      "metadata": {
        "colab": {
          "base_uri": "https://localhost:8080/"
        },
        "id": "eKkNt1u2LH9D",
        "outputId": "b487cf1e-83dc-4033-da30-d366a4e61ffa"
      },
      "execution_count": null,
      "outputs": [
        {
          "output_type": "stream",
          "name": "stdout",
          "text": [
            "Requirement already satisfied: pgmpy in /usr/local/lib/python3.10/dist-packages (0.1.24)\n",
            "Requirement already satisfied: networkx in /usr/local/lib/python3.10/dist-packages (from pgmpy) (3.2.1)\n",
            "Requirement already satisfied: numpy in /usr/local/lib/python3.10/dist-packages (from pgmpy) (1.23.5)\n",
            "Requirement already satisfied: scipy in /usr/local/lib/python3.10/dist-packages (from pgmpy) (1.11.4)\n",
            "Requirement already satisfied: scikit-learn in /usr/local/lib/python3.10/dist-packages (from pgmpy) (1.2.2)\n",
            "Requirement already satisfied: pandas in /usr/local/lib/python3.10/dist-packages (from pgmpy) (1.5.3)\n",
            "Requirement already satisfied: pyparsing in /usr/local/lib/python3.10/dist-packages (from pgmpy) (3.1.1)\n",
            "Requirement already satisfied: torch in /usr/local/lib/python3.10/dist-packages (from pgmpy) (2.1.0+cu118)\n",
            "Requirement already satisfied: statsmodels in /usr/local/lib/python3.10/dist-packages (from pgmpy) (0.14.0)\n",
            "Requirement already satisfied: tqdm in /usr/local/lib/python3.10/dist-packages (from pgmpy) (4.66.1)\n",
            "Requirement already satisfied: joblib in /usr/local/lib/python3.10/dist-packages (from pgmpy) (1.3.2)\n",
            "Requirement already satisfied: opt-einsum in /usr/local/lib/python3.10/dist-packages (from pgmpy) (3.3.0)\n",
            "Requirement already satisfied: python-dateutil>=2.8.1 in /usr/local/lib/python3.10/dist-packages (from pandas->pgmpy) (2.8.2)\n",
            "Requirement already satisfied: pytz>=2020.1 in /usr/local/lib/python3.10/dist-packages (from pandas->pgmpy) (2023.3.post1)\n",
            "Requirement already satisfied: threadpoolctl>=2.0.0 in /usr/local/lib/python3.10/dist-packages (from scikit-learn->pgmpy) (3.2.0)\n",
            "Requirement already satisfied: patsy>=0.5.2 in /usr/local/lib/python3.10/dist-packages (from statsmodels->pgmpy) (0.5.3)\n",
            "Requirement already satisfied: packaging>=21.3 in /usr/local/lib/python3.10/dist-packages (from statsmodels->pgmpy) (23.2)\n",
            "Requirement already satisfied: filelock in /usr/local/lib/python3.10/dist-packages (from torch->pgmpy) (3.13.1)\n",
            "Requirement already satisfied: typing-extensions in /usr/local/lib/python3.10/dist-packages (from torch->pgmpy) (4.5.0)\n",
            "Requirement already satisfied: sympy in /usr/local/lib/python3.10/dist-packages (from torch->pgmpy) (1.12)\n",
            "Requirement already satisfied: jinja2 in /usr/local/lib/python3.10/dist-packages (from torch->pgmpy) (3.1.2)\n",
            "Requirement already satisfied: fsspec in /usr/local/lib/python3.10/dist-packages (from torch->pgmpy) (2023.6.0)\n",
            "Requirement already satisfied: triton==2.1.0 in /usr/local/lib/python3.10/dist-packages (from torch->pgmpy) (2.1.0)\n",
            "Requirement already satisfied: six in /usr/local/lib/python3.10/dist-packages (from patsy>=0.5.2->statsmodels->pgmpy) (1.16.0)\n",
            "Requirement already satisfied: MarkupSafe>=2.0 in /usr/local/lib/python3.10/dist-packages (from jinja2->torch->pgmpy) (2.1.3)\n",
            "Requirement already satisfied: mpmath>=0.19 in /usr/local/lib/python3.10/dist-packages (from sympy->torch->pgmpy) (1.3.0)\n",
            "+-----------+---------------+\n",
            "| target    |   phi(target) |\n",
            "+===========+===============+\n",
            "| target(0) |        0.4278 |\n",
            "+-----------+---------------+\n",
            "| target(1) |        0.5722 |\n",
            "+-----------+---------------+\n",
            "+-----------+---------------+\n",
            "| target    |   phi(target) |\n",
            "+===========+===============+\n",
            "| target(0) |        0.4102 |\n",
            "+-----------+---------------+\n",
            "| target(1) |        0.5898 |\n",
            "+-----------+---------------+\n"
          ]
        }
      ]
    },
    {
      "cell_type": "markdown",
      "source": [
        "**6. Write a program to demonstrate the working of the decision tree based ID3 algorithm. Use an appropriate data set for building the decision tree and apply this knowledge to classify a new sample.**"
      ],
      "metadata": {
        "id": "UFkdYekKLxLT"
      }
    },
    {
      "cell_type": "code",
      "source": [
        "import pandas as pd\n",
        "from sklearn import tree\n",
        "from sklearn.preprocessing import LabelEncoder\n",
        "from sklearn.tree import DecisionTreeClassifier\n",
        "from io import StringIO\n",
        "\n",
        "\n",
        "data = pd.read_csv('tennisdata.csv')\n",
        "print(\"The first 5 values of data is \\n\",data.head())\n",
        "\n",
        "X = data.iloc[:,:-1]\n",
        "print(\"\\nThe first 5 values of Train data is \\n\",X.head())\n",
        "y = data.iloc[:,-1]\n",
        "print(\"\\nThe first 5 values of Train output is \\n\",y.head())\n",
        "\n",
        "\n",
        "le_outlook = LabelEncoder()\n",
        "X.Outlook =  le_outlook.fit_transform(X.Outlook)\n",
        "le_Temperature = LabelEncoder()\n",
        "X.Temperature =  le_Temperature.fit_transform(X.Temperature)\n",
        "le_Humidity = LabelEncoder()\n",
        "X.Humidity =  le_Humidity.fit_transform(X.Humidity)\n",
        "le_Windy = LabelEncoder()\n",
        "X.Windy =  le_Windy.fit_transform(X.Windy)\n",
        "\n",
        "print(\"\\nNow the Train data is\",X.head())\n",
        "\n",
        "le_PlayTennis = LabelEncoder()\n",
        "y =  le_PlayTennis.fit_transform(y)\n",
        "print(\"\\nNow the Train data is\\n\",y)\n",
        "\n",
        "classifier = DecisionTreeClassifier()\n",
        "classifier.fit(X,y)\n",
        "\n",
        "def labelEncoderForInput(list1):\n",
        "    list1[0] =  le_outlook.transform([list1[0]])[0]\n",
        "    list1[1] =  le_Temperature.transform([list1[1]])[0]\n",
        "    list1[2] =  le_Humidity.transform([list1[2]])[0]\n",
        "    list1[3] =  le_Windy.transform([list1[3]])[0]\n",
        "    return [list1]\n",
        "\n",
        "inp = [\"Rainy\",\"Mild\",\"High\",\"False\"]\n",
        "inp1=[\"Rainy\",\"Cool\",\"High\",\"False\"]\n",
        "pred1 = labelEncoderForInput(inp1)\n",
        "y_pred = classifier.predict(pred1)\n",
        "y_pred\n",
        "print(\"\\nfor input {0}, we obtain {1}\".format(inp1, le_PlayTennis.inverse_transform(y_pred)))\n"
      ],
      "metadata": {
        "colab": {
          "base_uri": "https://localhost:8080/"
        },
        "id": "uzaylt5tL1nQ",
        "outputId": "2edcfa24-09ff-4e59-d845-e582cb682f09"
      },
      "execution_count": null,
      "outputs": [
        {
          "output_type": "stream",
          "name": "stdout",
          "text": [
            "The first 5 values of data is \n",
            "     Outlook Temperature Humidity  Windy PlayTennis\n",
            "0     Sunny         Hot     High  False         No\n",
            "1     Sunny         Hot     High   True         No\n",
            "2  Overcast         Hot     High  False        Yes\n",
            "3     Rainy        Mild     High  False        Yes\n",
            "4     Rainy        Cool   Normal  False        Yes\n",
            "\n",
            "The first 5 values of Train data is \n",
            "     Outlook Temperature Humidity  Windy\n",
            "0     Sunny         Hot     High  False\n",
            "1     Sunny         Hot     High   True\n",
            "2  Overcast         Hot     High  False\n",
            "3     Rainy        Mild     High  False\n",
            "4     Rainy        Cool   Normal  False\n",
            "\n",
            "The first 5 values of Train output is \n",
            " 0     No\n",
            "1     No\n",
            "2    Yes\n",
            "3    Yes\n",
            "4    Yes\n",
            "Name: PlayTennis, dtype: object\n",
            "\n",
            "Now the Train data is    Outlook  Temperature  Humidity  Windy\n",
            "0        2            1         0      0\n",
            "1        2            1         0      1\n",
            "2        0            1         0      0\n",
            "3        1            2         0      0\n",
            "4        1            0         1      0\n",
            "\n",
            "Now the Train data is\n",
            " [0 0 1 1 1 0 1 0 1 1 1 1 1 0]\n",
            "\n",
            "for input [1, 0, 0, 1], we obtain ['No']\n"
          ]
        },
        {
          "output_type": "stream",
          "name": "stderr",
          "text": [
            "/usr/local/lib/python3.10/dist-packages/sklearn/base.py:439: UserWarning: X does not have valid feature names, but DecisionTreeClassifier was fitted with feature names\n",
            "  warnings.warn(\n"
          ]
        }
      ]
    },
    {
      "cell_type": "markdown",
      "source": [
        "**7. Build an Artificial Neural Network by implementing the Back\n",
        "propagation algorithm and test the same using appropriate datasets.**"
      ],
      "metadata": {
        "id": "aHnZCgKVNcuM"
      }
    },
    {
      "cell_type": "code",
      "source": [
        "import numpy as np\n",
        "x=np.array(([2,9],[1,5],[3,6]),dtype=float)\n",
        "y=np.array(([86],[92],[89]),dtype=float)\n",
        "x=x/np.amax(x,axis=0)\n",
        "y=y/100\n",
        "\n",
        "def sigmoid(x):\n",
        "    return 1/(1+np.exp(-x))\n",
        "def derivative_sigmoid(x):\n",
        "    return x*(1-x)\n",
        "\n",
        "epoch=5\n",
        "lr=0.1\n",
        "\n",
        "iln=2\n",
        "hln=1\n",
        "oln=1\n",
        "\n",
        "wh=np.random.uniform(size=(iln,hln))\n",
        "bh=np.random.uniform(size=(1,hln))\n",
        "wout=np.random.uniform(size=(hln,oln))\n",
        "bout=np.random.uniform(size=(1,oln))\n",
        "\n",
        "for i in range(epoch):\n",
        "    hinp1=np.dot(x,wh)\n",
        "    hinp=hinp1+bh\n",
        "    hlayer_act=sigmoid(hinp)\n",
        "\n",
        "    oinp1=np.dot(hlayer_act,wout)\n",
        "    oinp=oinp1+bout\n",
        "    output=sigmoid(oinp)\n",
        "\n",
        "    eo=y-output\n",
        "    outgrad=derivative_sigmoid(output)\n",
        "    d_output=eo*outgrad\n",
        "\n",
        "    eh=np.dot(d_output,wout.T)\n",
        "    hiddgrad=derivative_sigmoid(hlayer_act)\n",
        "    d_hidd=eh*hiddgrad\n",
        "\n",
        "    wout=wout+np.dot(hlayer_act.T,d_output)*lr\n",
        "    wh=wh+np.dot(x.T,d_hidd)*lr\n",
        "\n",
        "    print(\"Epoch : \",i+1)\n",
        "    print(\"Input : \",x)\n",
        "    print(\"Actual output : \",y)\n",
        "    print(\"Predicted output : \",output)\n"
      ],
      "metadata": {
        "colab": {
          "base_uri": "https://localhost:8080/"
        },
        "id": "yZbr3Q73Keky",
        "outputId": "0afd4921-3063-427c-a4a1-293c8d463400"
      },
      "execution_count": null,
      "outputs": [
        {
          "output_type": "stream",
          "name": "stdout",
          "text": [
            "Epoch :  1\n",
            "Input :  [[0.66666667 1.        ]\n",
            " [0.33333333 0.55555556]\n",
            " [1.         0.66666667]]\n",
            "Actual output :  [[0.86]\n",
            " [0.92]\n",
            " [0.89]]\n",
            "Predicted output :  [[0.65756223]\n",
            " [0.65741649]\n",
            " [0.65762567]]\n",
            "Epoch :  2\n",
            "Input :  [[0.66666667 1.        ]\n",
            " [0.33333333 0.55555556]\n",
            " [1.         0.66666667]]\n",
            "Actual output :  [[0.86]\n",
            " [0.92]\n",
            " [0.89]]\n",
            "Predicted output :  [[0.65962665]\n",
            " [0.65935082]\n",
            " [0.6597467 ]]\n",
            "Epoch :  3\n",
            "Input :  [[0.66666667 1.        ]\n",
            " [0.33333333 0.55555556]\n",
            " [1.         0.66666667]]\n",
            "Actual output :  [[0.86]\n",
            " [0.92]\n",
            " [0.89]]\n",
            "Predicted output :  [[0.66166119]\n",
            " [0.66125747]\n",
            " [0.66183684]]\n",
            "Epoch :  4\n",
            "Input :  [[0.66666667 1.        ]\n",
            " [0.33333333 0.55555556]\n",
            " [1.         0.66666667]]\n",
            "Actual output :  [[0.86]\n",
            " [0.92]\n",
            " [0.89]]\n",
            "Predicted output :  [[0.66366642]\n",
            " [0.66313698]\n",
            " [0.66389669]]\n",
            "Epoch :  5\n",
            "Input :  [[0.66666667 1.        ]\n",
            " [0.33333333 0.55555556]\n",
            " [1.         0.66666667]]\n",
            "Actual output :  [[0.86]\n",
            " [0.92]\n",
            " [0.89]]\n",
            "Predicted output :  [[0.66564293]\n",
            " [0.66498986]\n",
            " [0.66592683]]\n"
          ]
        }
      ]
    },
    {
      "cell_type": "markdown",
      "source": [
        "**8. Write a program to implement k-Nearest Neighbor algorithm to classify\n",
        "there is dataset. Print both correct and wrong predictions. Java /Python\n",
        "MLlibrary classes can be used for this problem.**"
      ],
      "metadata": {
        "id": "e9tCRbLQNsUu"
      }
    },
    {
      "cell_type": "code",
      "source": [
        "from sklearn.datasets import load_iris\n",
        "from sklearn.neighbors import KNeighborsClassifier\n",
        "from sklearn.model_selection import train_test_split\n",
        "import numpy as np\n",
        "\n",
        "dataset=load_iris()\n",
        "X_train,X_test,y_train,y_test=train_test_split(dataset[\"data\"],dataset[\"target\"],random_state=0)\n",
        "\n",
        "kn=KNeighborsClassifier(n_neighbors=1)\n",
        "kn.fit(X_train,y_train)\n",
        "\n",
        "for i in range(len(X_test)):\n",
        "    x=X_test[i]\n",
        "    x_new=np.array([x])\n",
        "    prediction=kn.predict(x_new)\n",
        "    #print(\"TARGET=\",y_test[i],dataset[\"target_names\"] [y_test[i]],\"PREDICTED=\",prediction,dataset[\"target_names\"][prediction])\n",
        "\n",
        "print(kn.score(X_test,y_test))"
      ],
      "metadata": {
        "colab": {
          "base_uri": "https://localhost:8080/"
        },
        "id": "8nutM2d8LiNk",
        "outputId": "e1925e89-ec95-4681-b028-2d568fb0bd1a"
      },
      "execution_count": null,
      "outputs": [
        {
          "output_type": "stream",
          "name": "stdout",
          "text": [
            "0.9736842105263158\n"
          ]
        }
      ]
    },
    {
      "cell_type": "markdown",
      "source": [
        "**9. Implement the non-parametric Locally Weighted Regression algorithm in order to fit data points. Select appropriate data set your experiment and draw graphs.**"
      ],
      "metadata": {
        "id": "jaoUs-XiN7mL"
      }
    },
    {
      "cell_type": "code",
      "source": [
        "import pandas as pd\n",
        "import numpy as np\n",
        "import matplotlib.pyplot as plt\n",
        "\n",
        "def kernal(point,xmat,k):\n",
        "    m,n=np.shape(xmat)\n",
        "    weights=np.mat(np.eye(m))\n",
        "\n",
        "    for i in range(m):\n",
        "        diff=point-xmat[i]\n",
        "        weights[i,i]=np.exp(diff*diff.T/(-2*k**2))\n",
        "    return weights\n",
        "\n",
        "def local_weights(point,xmat,ymat,k):\n",
        "    wt=kernal(point,xmat,k)\n",
        "    W=(x.T*(wt*x)).I*(x.T*wt*ymat.T)\n",
        "    return W\n",
        "\n",
        "def local_regression(xmat,ymat,k):\n",
        "    m,n=np.shape(xmat)\n",
        "    ypred=np.ones(m)\n",
        "    for i in range(m):\n",
        "        ypred[i]=xmat[i]*local_weights(xmat[i],xmat,ymat,k)\n",
        "    return ypred\n",
        "\n",
        "df=pd.read_csv(\"10-dataset .csv\")\n",
        "df\n",
        "cola=np.array(df.total_bill)\n",
        "colb=np.array(df.tip)\n",
        "mcola=np.mat(cola)\n",
        "mcolb=np.mat(colb)\n",
        "\n",
        "m=np.shape(mcolb)[1]\n",
        "one=np.ones((1,m),dtype=int)\n",
        "\n",
        "x=np.hstack((one.T,mcola.T))\n",
        "ypred=local_regression(x,mcolb,0.8)\n",
        "\n",
        "xsort=x.copy()\n",
        "xsort.sort(axis=0)\n",
        "plt.scatter(cola,colb,color='blue')\n",
        "plt.plot(xsort[:,1],ypred[x[:,1].argsort(0)],color='green',linewidth=5)\n",
        "plt.show()\n",
        "\n"
      ],
      "metadata": {
        "colab": {
          "base_uri": "https://localhost:8080/",
          "height": 430
        },
        "id": "RpdJ-DH74C6x",
        "outputId": "7b43118e-b3f1-435a-cfe1-355748d08e17"
      },
      "execution_count": null,
      "outputs": [
        {
          "output_type": "display_data",
          "data": {
            "text/plain": [
              "<Figure size 640x480 with 1 Axes>"
            ],
            "image/png": "[encoded data removed]"
          },
          "metadata": {}
        }
      ]
    },
    {
      "cell_type": "markdown",
      "source": [
        "**10. Apply EM algorithm to cluster a set of data stored in a .CSV file. Use the same data set for clustering using K-Means algorithm. Compare the results of these (R-20) B.Tech/CSE/2020-2021 Page134two algorithms and comment on the quality of clustering. You can add Java / Python ML library classes/API in the program**"
      ],
      "metadata": {
        "id": "CuPZ7RaCGHPK"
      }
    },
    {
      "cell_type": "code",
      "source": [
        "import pandas as pd\n",
        "import matplotlib.pyplot as plt\n",
        "from sklearn import preprocessing\n",
        "from sklearn import datasets\n",
        "from sklearn.cluster import KMeans\n",
        "from sklearn.mixture import GaussianMixture\n",
        "\n",
        "iris=datasets.load_iris()\n",
        "x=pd.DataFrame(iris.data)\n",
        "x.columns=[\"sepal_length\",\"sepal_width\",\"petal_length\",\"petal_width\"]\n",
        "y=pd.DataFrame(iris.target)\n",
        "y.columns=[\"target\"]\n",
        "\n",
        "km=KMeans(n_clusters=3)\n",
        "km.fit(x,y)\n",
        "\n",
        "plt.figure(figsize=(14,14))\n",
        "colormap=np.array([\"red\",\"green\",\"blue\"])\n",
        "\n",
        "plt.subplot(2,3,1)\n",
        "plt.scatter(x.petal_length,x.petal_width,c=colormap[y.target],s=40)\n",
        "plt.title(\"Real plot\")\n",
        "\n",
        "plt.subplot(2,3,2)\n",
        "plt.scatter(x.petal_length,x.petal_width,c=colormap[km.labels_],s=40)\n",
        "plt.title(\"KM plot\")\n",
        "\n",
        "scaler=preprocessing.StandardScaler()\n",
        "scaler.fit(x)\n",
        "xsa=scaler.transform(x)\n",
        "xs=pd.DataFrame(xsa,columns=[x.columns])\n",
        "\n",
        "gm=GaussianMixture(n_components=3)\n",
        "gm.fit(xs)\n",
        "gmm_y=gm.predict(xs)\n",
        "\n",
        "plt.subplot(2,3,3)\n",
        "plt.scatter(x.petal_length,x.petal_width,c=colormap[gmm_y],s=40)\n",
        "plt.title(\"GM plot\")\n",
        "plt.show()\n",
        "\n"
      ],
      "metadata": {
        "colab": {
          "base_uri": "https://localhost:8080/",
          "height": 628
        },
        "id": "9LejvqNUBlVd",
        "outputId": "61023be2-fe3e-47cf-f8da-8d3e7514cdc8"
      },
      "execution_count": null,
      "outputs": [
        {
          "output_type": "stream",
          "name": "stderr",
          "text": [
            "/usr/local/lib/python3.10/dist-packages/sklearn/cluster/_kmeans.py:870: FutureWarning: The default value of `n_init` will change from 10 to 'auto' in 1.4. Set the value of `n_init` explicitly to suppress the warning\n",
            "  warnings.warn(\n"
          ]
        },
        {
          "output_type": "display_data",
          "data": {
            "text/plain": [
              "<Figure size 1400x1400 with 3 Axes>"
            ],
            "image/png": "[encoded data removed]"
          },
          "metadata": {}
        }
      ]
    }
  ]
}